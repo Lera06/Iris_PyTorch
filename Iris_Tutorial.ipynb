{
  "nbformat": 4,
  "nbformat_minor": 0,
  "metadata": {
    "colab": {
      "provenance": [],
      "authorship_tag": "ABX9TyOLCDqEJCBhxPsw5aoj0djK",
      "include_colab_link": true
    },
    "kernelspec": {
      "name": "python3",
      "display_name": "Python 3"
    },
    "language_info": {
      "name": "python"
    }
  },
  "cells": [
    {
      "cell_type": "markdown",
      "metadata": {
        "id": "view-in-github",
        "colab_type": "text"
      },
      "source": [
        "<a href=\"https://colab.research.google.com/github/Lera06/Iris_PyTorch/blob/main/Iris_Tutorial.ipynb\" target=\"_parent\"><img src=\"https://colab.research.google.com/assets/colab-badge.svg\" alt=\"Open In Colab\"/></a>"
      ]
    },
    {
      "cell_type": "markdown",
      "source": [
        "### Iris Tutorial\n",
        "\n",
        "Dataset Source: https://gist.github.com/netj/8836201#file-iris-csv\n",
        "\n",
        "We will try to predict a type of a flower (iris)."
      ],
      "metadata": {
        "id": "YZOMl7pU0Nwj"
      }
    },
    {
      "cell_type": "code",
      "execution_count": 1,
      "metadata": {
        "id": "ryAG7e1tx6jJ"
      },
      "outputs": [],
      "source": [
        "# Dependancies\n",
        "import torch\n",
        "from torch import nn\n",
        "import torch.functional as F\n",
        "\n",
        "from sklearn.model_selection import train_test_split\n",
        "\n",
        "import numpy as np\n",
        "import pandas as pd\n",
        "import matplotlib.pyplot as plt\n",
        "%matplotlib inline"
      ]
    },
    {
      "cell_type": "markdown",
      "source": [
        "### Random Seed"
      ],
      "metadata": {
        "id": "hXz3bOdDy_lK"
      }
    },
    {
      "cell_type": "code",
      "source": [
        "torch.manual_seed(41)"
      ],
      "metadata": {
        "colab": {
          "base_uri": "https://localhost:8080/"
        },
        "id": "gbS_Fbw8zCcs",
        "outputId": "76b202b7-ae90-4cf8-ce3a-cc49db8c2f80"
      },
      "execution_count": 2,
      "outputs": [
        {
          "output_type": "execute_result",
          "data": {
            "text/plain": [
              "<torch._C.Generator at 0x7e6a28074450>"
            ]
          },
          "metadata": {},
          "execution_count": 2
        }
      ]
    },
    {
      "cell_type": "markdown",
      "source": [
        "### Data Preparation"
      ],
      "metadata": {
        "id": "FZxQGqLtyr2c"
      }
    },
    {
      "cell_type": "code",
      "source": [
        "# Download Iris dataset as CSV file\n",
        "url = 'https://gist.githubusercontent.com/netj/8836201/raw/6f9306ad21398ea43cba4f7d537619d0e07d5ae3/iris.csv'\n",
        "\n",
        "my_df = pd.read_csv(url)"
      ],
      "metadata": {
        "id": "Zkt79YdMyvQc"
      },
      "execution_count": 3,
      "outputs": []
    },
    {
      "cell_type": "code",
      "source": [
        "# Show the data\n",
        "my_df.head()\n",
        "my_df.tail()\n",
        "my_df.head(10)"
      ],
      "metadata": {
        "colab": {
          "base_uri": "https://localhost:8080/",
          "height": 363
        },
        "id": "NZFVTMgm0D1z",
        "outputId": "1722472b-0437-48e3-fa85-2ea1d3ac1996"
      },
      "execution_count": 4,
      "outputs": [
        {
          "output_type": "execute_result",
          "data": {
            "text/plain": [
              "   sepal.length  sepal.width  petal.length  petal.width variety\n",
              "0           5.1          3.5           1.4          0.2  Setosa\n",
              "1           4.9          3.0           1.4          0.2  Setosa\n",
              "2           4.7          3.2           1.3          0.2  Setosa\n",
              "3           4.6          3.1           1.5          0.2  Setosa\n",
              "4           5.0          3.6           1.4          0.2  Setosa\n",
              "5           5.4          3.9           1.7          0.4  Setosa\n",
              "6           4.6          3.4           1.4          0.3  Setosa\n",
              "7           5.0          3.4           1.5          0.2  Setosa\n",
              "8           4.4          2.9           1.4          0.2  Setosa\n",
              "9           4.9          3.1           1.5          0.1  Setosa"
            ],
            "text/html": [
              "\n",
              "  <div id=\"df-125550aa-a117-4076-9372-1db914cea3bb\" class=\"colab-df-container\">\n",
              "    <div>\n",
              "<style scoped>\n",
              "    .dataframe tbody tr th:only-of-type {\n",
              "        vertical-align: middle;\n",
              "    }\n",
              "\n",
              "    .dataframe tbody tr th {\n",
              "        vertical-align: top;\n",
              "    }\n",
              "\n",
              "    .dataframe thead th {\n",
              "        text-align: right;\n",
              "    }\n",
              "</style>\n",
              "<table border=\"1\" class=\"dataframe\">\n",
              "  <thead>\n",
              "    <tr style=\"text-align: right;\">\n",
              "      <th></th>\n",
              "      <th>sepal.length</th>\n",
              "      <th>sepal.width</th>\n",
              "      <th>petal.length</th>\n",
              "      <th>petal.width</th>\n",
              "      <th>variety</th>\n",
              "    </tr>\n",
              "  </thead>\n",
              "  <tbody>\n",
              "    <tr>\n",
              "      <th>0</th>\n",
              "      <td>5.1</td>\n",
              "      <td>3.5</td>\n",
              "      <td>1.4</td>\n",
              "      <td>0.2</td>\n",
              "      <td>Setosa</td>\n",
              "    </tr>\n",
              "    <tr>\n",
              "      <th>1</th>\n",
              "      <td>4.9</td>\n",
              "      <td>3.0</td>\n",
              "      <td>1.4</td>\n",
              "      <td>0.2</td>\n",
              "      <td>Setosa</td>\n",
              "    </tr>\n",
              "    <tr>\n",
              "      <th>2</th>\n",
              "      <td>4.7</td>\n",
              "      <td>3.2</td>\n",
              "      <td>1.3</td>\n",
              "      <td>0.2</td>\n",
              "      <td>Setosa</td>\n",
              "    </tr>\n",
              "    <tr>\n",
              "      <th>3</th>\n",
              "      <td>4.6</td>\n",
              "      <td>3.1</td>\n",
              "      <td>1.5</td>\n",
              "      <td>0.2</td>\n",
              "      <td>Setosa</td>\n",
              "    </tr>\n",
              "    <tr>\n",
              "      <th>4</th>\n",
              "      <td>5.0</td>\n",
              "      <td>3.6</td>\n",
              "      <td>1.4</td>\n",
              "      <td>0.2</td>\n",
              "      <td>Setosa</td>\n",
              "    </tr>\n",
              "    <tr>\n",
              "      <th>5</th>\n",
              "      <td>5.4</td>\n",
              "      <td>3.9</td>\n",
              "      <td>1.7</td>\n",
              "      <td>0.4</td>\n",
              "      <td>Setosa</td>\n",
              "    </tr>\n",
              "    <tr>\n",
              "      <th>6</th>\n",
              "      <td>4.6</td>\n",
              "      <td>3.4</td>\n",
              "      <td>1.4</td>\n",
              "      <td>0.3</td>\n",
              "      <td>Setosa</td>\n",
              "    </tr>\n",
              "    <tr>\n",
              "      <th>7</th>\n",
              "      <td>5.0</td>\n",
              "      <td>3.4</td>\n",
              "      <td>1.5</td>\n",
              "      <td>0.2</td>\n",
              "      <td>Setosa</td>\n",
              "    </tr>\n",
              "    <tr>\n",
              "      <th>8</th>\n",
              "      <td>4.4</td>\n",
              "      <td>2.9</td>\n",
              "      <td>1.4</td>\n",
              "      <td>0.2</td>\n",
              "      <td>Setosa</td>\n",
              "    </tr>\n",
              "    <tr>\n",
              "      <th>9</th>\n",
              "      <td>4.9</td>\n",
              "      <td>3.1</td>\n",
              "      <td>1.5</td>\n",
              "      <td>0.1</td>\n",
              "      <td>Setosa</td>\n",
              "    </tr>\n",
              "  </tbody>\n",
              "</table>\n",
              "</div>\n",
              "    <div class=\"colab-df-buttons\">\n",
              "\n",
              "  <div class=\"colab-df-container\">\n",
              "    <button class=\"colab-df-convert\" onclick=\"convertToInteractive('df-125550aa-a117-4076-9372-1db914cea3bb')\"\n",
              "            title=\"Convert this dataframe to an interactive table.\"\n",
              "            style=\"display:none;\">\n",
              "\n",
              "  <svg xmlns=\"http://www.w3.org/2000/svg\" height=\"24px\" viewBox=\"0 -960 960 960\">\n",
              "    <path d=\"M120-120v-720h720v720H120Zm60-500h600v-160H180v160Zm220 220h160v-160H400v160Zm0 220h160v-160H400v160ZM180-400h160v-160H180v160Zm440 0h160v-160H620v160ZM180-180h160v-160H180v160Zm440 0h160v-160H620v160Z\"/>\n",
              "  </svg>\n",
              "    </button>\n",
              "\n",
              "  <style>\n",
              "    .colab-df-container {\n",
              "      display:flex;\n",
              "      gap: 12px;\n",
              "    }\n",
              "\n",
              "    .colab-df-convert {\n",
              "      background-color: #E8F0FE;\n",
              "      border: none;\n",
              "      border-radius: 50%;\n",
              "      cursor: pointer;\n",
              "      display: none;\n",
              "      fill: #1967D2;\n",
              "      height: 32px;\n",
              "      padding: 0 0 0 0;\n",
              "      width: 32px;\n",
              "    }\n",
              "\n",
              "    .colab-df-convert:hover {\n",
              "      background-color: #E2EBFA;\n",
              "      box-shadow: 0px 1px 2px rgba(60, 64, 67, 0.3), 0px 1px 3px 1px rgba(60, 64, 67, 0.15);\n",
              "      fill: #174EA6;\n",
              "    }\n",
              "\n",
              "    .colab-df-buttons div {\n",
              "      margin-bottom: 4px;\n",
              "    }\n",
              "\n",
              "    [theme=dark] .colab-df-convert {\n",
              "      background-color: #3B4455;\n",
              "      fill: #D2E3FC;\n",
              "    }\n",
              "\n",
              "    [theme=dark] .colab-df-convert:hover {\n",
              "      background-color: #434B5C;\n",
              "      box-shadow: 0px 1px 3px 1px rgba(0, 0, 0, 0.15);\n",
              "      filter: drop-shadow(0px 1px 2px rgba(0, 0, 0, 0.3));\n",
              "      fill: #FFFFFF;\n",
              "    }\n",
              "  </style>\n",
              "\n",
              "    <script>\n",
              "      const buttonEl =\n",
              "        document.querySelector('#df-125550aa-a117-4076-9372-1db914cea3bb button.colab-df-convert');\n",
              "      buttonEl.style.display =\n",
              "        google.colab.kernel.accessAllowed ? 'block' : 'none';\n",
              "\n",
              "      async function convertToInteractive(key) {\n",
              "        const element = document.querySelector('#df-125550aa-a117-4076-9372-1db914cea3bb');\n",
              "        const dataTable =\n",
              "          await google.colab.kernel.invokeFunction('convertToInteractive',\n",
              "                                                    [key], {});\n",
              "        if (!dataTable) return;\n",
              "\n",
              "        const docLinkHtml = 'Like what you see? Visit the ' +\n",
              "          '<a target=\"_blank\" href=https://colab.research.google.com/notebooks/data_table.ipynb>data table notebook</a>'\n",
              "          + ' to learn more about interactive tables.';\n",
              "        element.innerHTML = '';\n",
              "        dataTable['output_type'] = 'display_data';\n",
              "        await google.colab.output.renderOutput(dataTable, element);\n",
              "        const docLink = document.createElement('div');\n",
              "        docLink.innerHTML = docLinkHtml;\n",
              "        element.appendChild(docLink);\n",
              "      }\n",
              "    </script>\n",
              "  </div>\n",
              "\n",
              "\n",
              "<div id=\"df-236f32ac-68f0-4472-8a4d-b7f3be59c977\">\n",
              "  <button class=\"colab-df-quickchart\" onclick=\"quickchart('df-236f32ac-68f0-4472-8a4d-b7f3be59c977')\"\n",
              "            title=\"Suggest charts\"\n",
              "            style=\"display:none;\">\n",
              "\n",
              "<svg xmlns=\"http://www.w3.org/2000/svg\" height=\"24px\"viewBox=\"0 0 24 24\"\n",
              "     width=\"24px\">\n",
              "    <g>\n",
              "        <path d=\"M19 3H5c-1.1 0-2 .9-2 2v14c0 1.1.9 2 2 2h14c1.1 0 2-.9 2-2V5c0-1.1-.9-2-2-2zM9 17H7v-7h2v7zm4 0h-2V7h2v10zm4 0h-2v-4h2v4z\"/>\n",
              "    </g>\n",
              "</svg>\n",
              "  </button>\n",
              "\n",
              "<style>\n",
              "  .colab-df-quickchart {\n",
              "      --bg-color: #E8F0FE;\n",
              "      --fill-color: #1967D2;\n",
              "      --hover-bg-color: #E2EBFA;\n",
              "      --hover-fill-color: #174EA6;\n",
              "      --disabled-fill-color: #AAA;\n",
              "      --disabled-bg-color: #DDD;\n",
              "  }\n",
              "\n",
              "  [theme=dark] .colab-df-quickchart {\n",
              "      --bg-color: #3B4455;\n",
              "      --fill-color: #D2E3FC;\n",
              "      --hover-bg-color: #434B5C;\n",
              "      --hover-fill-color: #FFFFFF;\n",
              "      --disabled-bg-color: #3B4455;\n",
              "      --disabled-fill-color: #666;\n",
              "  }\n",
              "\n",
              "  .colab-df-quickchart {\n",
              "    background-color: var(--bg-color);\n",
              "    border: none;\n",
              "    border-radius: 50%;\n",
              "    cursor: pointer;\n",
              "    display: none;\n",
              "    fill: var(--fill-color);\n",
              "    height: 32px;\n",
              "    padding: 0;\n",
              "    width: 32px;\n",
              "  }\n",
              "\n",
              "  .colab-df-quickchart:hover {\n",
              "    background-color: var(--hover-bg-color);\n",
              "    box-shadow: 0 1px 2px rgba(60, 64, 67, 0.3), 0 1px 3px 1px rgba(60, 64, 67, 0.15);\n",
              "    fill: var(--button-hover-fill-color);\n",
              "  }\n",
              "\n",
              "  .colab-df-quickchart-complete:disabled,\n",
              "  .colab-df-quickchart-complete:disabled:hover {\n",
              "    background-color: var(--disabled-bg-color);\n",
              "    fill: var(--disabled-fill-color);\n",
              "    box-shadow: none;\n",
              "  }\n",
              "\n",
              "  .colab-df-spinner {\n",
              "    border: 2px solid var(--fill-color);\n",
              "    border-color: transparent;\n",
              "    border-bottom-color: var(--fill-color);\n",
              "    animation:\n",
              "      spin 1s steps(1) infinite;\n",
              "  }\n",
              "\n",
              "  @keyframes spin {\n",
              "    0% {\n",
              "      border-color: transparent;\n",
              "      border-bottom-color: var(--fill-color);\n",
              "      border-left-color: var(--fill-color);\n",
              "    }\n",
              "    20% {\n",
              "      border-color: transparent;\n",
              "      border-left-color: var(--fill-color);\n",
              "      border-top-color: var(--fill-color);\n",
              "    }\n",
              "    30% {\n",
              "      border-color: transparent;\n",
              "      border-left-color: var(--fill-color);\n",
              "      border-top-color: var(--fill-color);\n",
              "      border-right-color: var(--fill-color);\n",
              "    }\n",
              "    40% {\n",
              "      border-color: transparent;\n",
              "      border-right-color: var(--fill-color);\n",
              "      border-top-color: var(--fill-color);\n",
              "    }\n",
              "    60% {\n",
              "      border-color: transparent;\n",
              "      border-right-color: var(--fill-color);\n",
              "    }\n",
              "    80% {\n",
              "      border-color: transparent;\n",
              "      border-right-color: var(--fill-color);\n",
              "      border-bottom-color: var(--fill-color);\n",
              "    }\n",
              "    90% {\n",
              "      border-color: transparent;\n",
              "      border-bottom-color: var(--fill-color);\n",
              "    }\n",
              "  }\n",
              "</style>\n",
              "\n",
              "  <script>\n",
              "    async function quickchart(key) {\n",
              "      const quickchartButtonEl =\n",
              "        document.querySelector('#' + key + ' button');\n",
              "      quickchartButtonEl.disabled = true;  // To prevent multiple clicks.\n",
              "      quickchartButtonEl.classList.add('colab-df-spinner');\n",
              "      try {\n",
              "        const charts = await google.colab.kernel.invokeFunction(\n",
              "            'suggestCharts', [key], {});\n",
              "      } catch (error) {\n",
              "        console.error('Error during call to suggestCharts:', error);\n",
              "      }\n",
              "      quickchartButtonEl.classList.remove('colab-df-spinner');\n",
              "      quickchartButtonEl.classList.add('colab-df-quickchart-complete');\n",
              "    }\n",
              "    (() => {\n",
              "      let quickchartButtonEl =\n",
              "        document.querySelector('#df-236f32ac-68f0-4472-8a4d-b7f3be59c977 button');\n",
              "      quickchartButtonEl.style.display =\n",
              "        google.colab.kernel.accessAllowed ? 'block' : 'none';\n",
              "    })();\n",
              "  </script>\n",
              "</div>\n",
              "    </div>\n",
              "  </div>\n"
            ],
            "application/vnd.google.colaboratory.intrinsic+json": {
              "type": "dataframe",
              "variable_name": "my_df",
              "summary": "{\n  \"name\": \"my_df\",\n  \"rows\": 150,\n  \"fields\": [\n    {\n      \"column\": \"sepal.length\",\n      \"properties\": {\n        \"dtype\": \"number\",\n        \"std\": 0.828066127977863,\n        \"min\": 4.3,\n        \"max\": 7.9,\n        \"num_unique_values\": 35,\n        \"samples\": [\n          6.2,\n          4.5,\n          5.6\n        ],\n        \"semantic_type\": \"\",\n        \"description\": \"\"\n      }\n    },\n    {\n      \"column\": \"sepal.width\",\n      \"properties\": {\n        \"dtype\": \"number\",\n        \"std\": 0.4358662849366982,\n        \"min\": 2.0,\n        \"max\": 4.4,\n        \"num_unique_values\": 23,\n        \"samples\": [\n          2.3,\n          4.0,\n          3.5\n        ],\n        \"semantic_type\": \"\",\n        \"description\": \"\"\n      }\n    },\n    {\n      \"column\": \"petal.length\",\n      \"properties\": {\n        \"dtype\": \"number\",\n        \"std\": 1.7652982332594662,\n        \"min\": 1.0,\n        \"max\": 6.9,\n        \"num_unique_values\": 43,\n        \"samples\": [\n          6.7,\n          3.8,\n          3.7\n        ],\n        \"semantic_type\": \"\",\n        \"description\": \"\"\n      }\n    },\n    {\n      \"column\": \"petal.width\",\n      \"properties\": {\n        \"dtype\": \"number\",\n        \"std\": 0.7622376689603465,\n        \"min\": 0.1,\n        \"max\": 2.5,\n        \"num_unique_values\": 22,\n        \"samples\": [\n          0.2,\n          1.2,\n          1.3\n        ],\n        \"semantic_type\": \"\",\n        \"description\": \"\"\n      }\n    },\n    {\n      \"column\": \"variety\",\n      \"properties\": {\n        \"dtype\": \"category\",\n        \"num_unique_values\": 3,\n        \"samples\": [\n          \"Setosa\",\n          \"Versicolor\",\n          \"Virginica\"\n        ],\n        \"semantic_type\": \"\",\n        \"description\": \"\"\n      }\n    }\n  ]\n}"
            }
          },
          "metadata": {},
          "execution_count": 4
        }
      ]
    },
    {
      "cell_type": "code",
      "source": [
        "# We need to change the last column from string ('vatiety') to floats (numbers)\n",
        "my_df['variety'] = my_df['variety'].replace('Setosa', 0.0)\n",
        "my_df['variety'] = my_df['variety'].replace('Versicolor', 1.0)\n",
        "my_df['variety'] = my_df['variety'].replace('Virginica', 2.0)"
      ],
      "metadata": {
        "id": "33O2_rTd01wT"
      },
      "execution_count": 5,
      "outputs": []
    },
    {
      "cell_type": "code",
      "source": [
        "my_df"
      ],
      "metadata": {
        "colab": {
          "base_uri": "https://localhost:8080/",
          "height": 423
        },
        "id": "GuMkDrJu2jlr",
        "outputId": "b155f2a0-f3b3-471c-eff8-21663e116b9f"
      },
      "execution_count": 6,
      "outputs": [
        {
          "output_type": "execute_result",
          "data": {
            "text/plain": [
              "     sepal.length  sepal.width  petal.length  petal.width  variety\n",
              "0             5.1          3.5           1.4          0.2      0.0\n",
              "1             4.9          3.0           1.4          0.2      0.0\n",
              "2             4.7          3.2           1.3          0.2      0.0\n",
              "3             4.6          3.1           1.5          0.2      0.0\n",
              "4             5.0          3.6           1.4          0.2      0.0\n",
              "..            ...          ...           ...          ...      ...\n",
              "145           6.7          3.0           5.2          2.3      2.0\n",
              "146           6.3          2.5           5.0          1.9      2.0\n",
              "147           6.5          3.0           5.2          2.0      2.0\n",
              "148           6.2          3.4           5.4          2.3      2.0\n",
              "149           5.9          3.0           5.1          1.8      2.0\n",
              "\n",
              "[150 rows x 5 columns]"
            ],
            "text/html": [
              "\n",
              "  <div id=\"df-f7f1f62f-8d1a-4868-a774-652b1a3ba453\" class=\"colab-df-container\">\n",
              "    <div>\n",
              "<style scoped>\n",
              "    .dataframe tbody tr th:only-of-type {\n",
              "        vertical-align: middle;\n",
              "    }\n",
              "\n",
              "    .dataframe tbody tr th {\n",
              "        vertical-align: top;\n",
              "    }\n",
              "\n",
              "    .dataframe thead th {\n",
              "        text-align: right;\n",
              "    }\n",
              "</style>\n",
              "<table border=\"1\" class=\"dataframe\">\n",
              "  <thead>\n",
              "    <tr style=\"text-align: right;\">\n",
              "      <th></th>\n",
              "      <th>sepal.length</th>\n",
              "      <th>sepal.width</th>\n",
              "      <th>petal.length</th>\n",
              "      <th>petal.width</th>\n",
              "      <th>variety</th>\n",
              "    </tr>\n",
              "  </thead>\n",
              "  <tbody>\n",
              "    <tr>\n",
              "      <th>0</th>\n",
              "      <td>5.1</td>\n",
              "      <td>3.5</td>\n",
              "      <td>1.4</td>\n",
              "      <td>0.2</td>\n",
              "      <td>0.0</td>\n",
              "    </tr>\n",
              "    <tr>\n",
              "      <th>1</th>\n",
              "      <td>4.9</td>\n",
              "      <td>3.0</td>\n",
              "      <td>1.4</td>\n",
              "      <td>0.2</td>\n",
              "      <td>0.0</td>\n",
              "    </tr>\n",
              "    <tr>\n",
              "      <th>2</th>\n",
              "      <td>4.7</td>\n",
              "      <td>3.2</td>\n",
              "      <td>1.3</td>\n",
              "      <td>0.2</td>\n",
              "      <td>0.0</td>\n",
              "    </tr>\n",
              "    <tr>\n",
              "      <th>3</th>\n",
              "      <td>4.6</td>\n",
              "      <td>3.1</td>\n",
              "      <td>1.5</td>\n",
              "      <td>0.2</td>\n",
              "      <td>0.0</td>\n",
              "    </tr>\n",
              "    <tr>\n",
              "      <th>4</th>\n",
              "      <td>5.0</td>\n",
              "      <td>3.6</td>\n",
              "      <td>1.4</td>\n",
              "      <td>0.2</td>\n",
              "      <td>0.0</td>\n",
              "    </tr>\n",
              "    <tr>\n",
              "      <th>...</th>\n",
              "      <td>...</td>\n",
              "      <td>...</td>\n",
              "      <td>...</td>\n",
              "      <td>...</td>\n",
              "      <td>...</td>\n",
              "    </tr>\n",
              "    <tr>\n",
              "      <th>145</th>\n",
              "      <td>6.7</td>\n",
              "      <td>3.0</td>\n",
              "      <td>5.2</td>\n",
              "      <td>2.3</td>\n",
              "      <td>2.0</td>\n",
              "    </tr>\n",
              "    <tr>\n",
              "      <th>146</th>\n",
              "      <td>6.3</td>\n",
              "      <td>2.5</td>\n",
              "      <td>5.0</td>\n",
              "      <td>1.9</td>\n",
              "      <td>2.0</td>\n",
              "    </tr>\n",
              "    <tr>\n",
              "      <th>147</th>\n",
              "      <td>6.5</td>\n",
              "      <td>3.0</td>\n",
              "      <td>5.2</td>\n",
              "      <td>2.0</td>\n",
              "      <td>2.0</td>\n",
              "    </tr>\n",
              "    <tr>\n",
              "      <th>148</th>\n",
              "      <td>6.2</td>\n",
              "      <td>3.4</td>\n",
              "      <td>5.4</td>\n",
              "      <td>2.3</td>\n",
              "      <td>2.0</td>\n",
              "    </tr>\n",
              "    <tr>\n",
              "      <th>149</th>\n",
              "      <td>5.9</td>\n",
              "      <td>3.0</td>\n",
              "      <td>5.1</td>\n",
              "      <td>1.8</td>\n",
              "      <td>2.0</td>\n",
              "    </tr>\n",
              "  </tbody>\n",
              "</table>\n",
              "<p>150 rows × 5 columns</p>\n",
              "</div>\n",
              "    <div class=\"colab-df-buttons\">\n",
              "\n",
              "  <div class=\"colab-df-container\">\n",
              "    <button class=\"colab-df-convert\" onclick=\"convertToInteractive('df-f7f1f62f-8d1a-4868-a774-652b1a3ba453')\"\n",
              "            title=\"Convert this dataframe to an interactive table.\"\n",
              "            style=\"display:none;\">\n",
              "\n",
              "  <svg xmlns=\"http://www.w3.org/2000/svg\" height=\"24px\" viewBox=\"0 -960 960 960\">\n",
              "    <path d=\"M120-120v-720h720v720H120Zm60-500h600v-160H180v160Zm220 220h160v-160H400v160Zm0 220h160v-160H400v160ZM180-400h160v-160H180v160Zm440 0h160v-160H620v160ZM180-180h160v-160H180v160Zm440 0h160v-160H620v160Z\"/>\n",
              "  </svg>\n",
              "    </button>\n",
              "\n",
              "  <style>\n",
              "    .colab-df-container {\n",
              "      display:flex;\n",
              "      gap: 12px;\n",
              "    }\n",
              "\n",
              "    .colab-df-convert {\n",
              "      background-color: #E8F0FE;\n",
              "      border: none;\n",
              "      border-radius: 50%;\n",
              "      cursor: pointer;\n",
              "      display: none;\n",
              "      fill: #1967D2;\n",
              "      height: 32px;\n",
              "      padding: 0 0 0 0;\n",
              "      width: 32px;\n",
              "    }\n",
              "\n",
              "    .colab-df-convert:hover {\n",
              "      background-color: #E2EBFA;\n",
              "      box-shadow: 0px 1px 2px rgba(60, 64, 67, 0.3), 0px 1px 3px 1px rgba(60, 64, 67, 0.15);\n",
              "      fill: #174EA6;\n",
              "    }\n",
              "\n",
              "    .colab-df-buttons div {\n",
              "      margin-bottom: 4px;\n",
              "    }\n",
              "\n",
              "    [theme=dark] .colab-df-convert {\n",
              "      background-color: #3B4455;\n",
              "      fill: #D2E3FC;\n",
              "    }\n",
              "\n",
              "    [theme=dark] .colab-df-convert:hover {\n",
              "      background-color: #434B5C;\n",
              "      box-shadow: 0px 1px 3px 1px rgba(0, 0, 0, 0.15);\n",
              "      filter: drop-shadow(0px 1px 2px rgba(0, 0, 0, 0.3));\n",
              "      fill: #FFFFFF;\n",
              "    }\n",
              "  </style>\n",
              "\n",
              "    <script>\n",
              "      const buttonEl =\n",
              "        document.querySelector('#df-f7f1f62f-8d1a-4868-a774-652b1a3ba453 button.colab-df-convert');\n",
              "      buttonEl.style.display =\n",
              "        google.colab.kernel.accessAllowed ? 'block' : 'none';\n",
              "\n",
              "      async function convertToInteractive(key) {\n",
              "        const element = document.querySelector('#df-f7f1f62f-8d1a-4868-a774-652b1a3ba453');\n",
              "        const dataTable =\n",
              "          await google.colab.kernel.invokeFunction('convertToInteractive',\n",
              "                                                    [key], {});\n",
              "        if (!dataTable) return;\n",
              "\n",
              "        const docLinkHtml = 'Like what you see? Visit the ' +\n",
              "          '<a target=\"_blank\" href=https://colab.research.google.com/notebooks/data_table.ipynb>data table notebook</a>'\n",
              "          + ' to learn more about interactive tables.';\n",
              "        element.innerHTML = '';\n",
              "        dataTable['output_type'] = 'display_data';\n",
              "        await google.colab.output.renderOutput(dataTable, element);\n",
              "        const docLink = document.createElement('div');\n",
              "        docLink.innerHTML = docLinkHtml;\n",
              "        element.appendChild(docLink);\n",
              "      }\n",
              "    </script>\n",
              "  </div>\n",
              "\n",
              "\n",
              "<div id=\"df-de09db2a-e997-4a78-a4a2-f3f7b20c9738\">\n",
              "  <button class=\"colab-df-quickchart\" onclick=\"quickchart('df-de09db2a-e997-4a78-a4a2-f3f7b20c9738')\"\n",
              "            title=\"Suggest charts\"\n",
              "            style=\"display:none;\">\n",
              "\n",
              "<svg xmlns=\"http://www.w3.org/2000/svg\" height=\"24px\"viewBox=\"0 0 24 24\"\n",
              "     width=\"24px\">\n",
              "    <g>\n",
              "        <path d=\"M19 3H5c-1.1 0-2 .9-2 2v14c0 1.1.9 2 2 2h14c1.1 0 2-.9 2-2V5c0-1.1-.9-2-2-2zM9 17H7v-7h2v7zm4 0h-2V7h2v10zm4 0h-2v-4h2v4z\"/>\n",
              "    </g>\n",
              "</svg>\n",
              "  </button>\n",
              "\n",
              "<style>\n",
              "  .colab-df-quickchart {\n",
              "      --bg-color: #E8F0FE;\n",
              "      --fill-color: #1967D2;\n",
              "      --hover-bg-color: #E2EBFA;\n",
              "      --hover-fill-color: #174EA6;\n",
              "      --disabled-fill-color: #AAA;\n",
              "      --disabled-bg-color: #DDD;\n",
              "  }\n",
              "\n",
              "  [theme=dark] .colab-df-quickchart {\n",
              "      --bg-color: #3B4455;\n",
              "      --fill-color: #D2E3FC;\n",
              "      --hover-bg-color: #434B5C;\n",
              "      --hover-fill-color: #FFFFFF;\n",
              "      --disabled-bg-color: #3B4455;\n",
              "      --disabled-fill-color: #666;\n",
              "  }\n",
              "\n",
              "  .colab-df-quickchart {\n",
              "    background-color: var(--bg-color);\n",
              "    border: none;\n",
              "    border-radius: 50%;\n",
              "    cursor: pointer;\n",
              "    display: none;\n",
              "    fill: var(--fill-color);\n",
              "    height: 32px;\n",
              "    padding: 0;\n",
              "    width: 32px;\n",
              "  }\n",
              "\n",
              "  .colab-df-quickchart:hover {\n",
              "    background-color: var(--hover-bg-color);\n",
              "    box-shadow: 0 1px 2px rgba(60, 64, 67, 0.3), 0 1px 3px 1px rgba(60, 64, 67, 0.15);\n",
              "    fill: var(--button-hover-fill-color);\n",
              "  }\n",
              "\n",
              "  .colab-df-quickchart-complete:disabled,\n",
              "  .colab-df-quickchart-complete:disabled:hover {\n",
              "    background-color: var(--disabled-bg-color);\n",
              "    fill: var(--disabled-fill-color);\n",
              "    box-shadow: none;\n",
              "  }\n",
              "\n",
              "  .colab-df-spinner {\n",
              "    border: 2px solid var(--fill-color);\n",
              "    border-color: transparent;\n",
              "    border-bottom-color: var(--fill-color);\n",
              "    animation:\n",
              "      spin 1s steps(1) infinite;\n",
              "  }\n",
              "\n",
              "  @keyframes spin {\n",
              "    0% {\n",
              "      border-color: transparent;\n",
              "      border-bottom-color: var(--fill-color);\n",
              "      border-left-color: var(--fill-color);\n",
              "    }\n",
              "    20% {\n",
              "      border-color: transparent;\n",
              "      border-left-color: var(--fill-color);\n",
              "      border-top-color: var(--fill-color);\n",
              "    }\n",
              "    30% {\n",
              "      border-color: transparent;\n",
              "      border-left-color: var(--fill-color);\n",
              "      border-top-color: var(--fill-color);\n",
              "      border-right-color: var(--fill-color);\n",
              "    }\n",
              "    40% {\n",
              "      border-color: transparent;\n",
              "      border-right-color: var(--fill-color);\n",
              "      border-top-color: var(--fill-color);\n",
              "    }\n",
              "    60% {\n",
              "      border-color: transparent;\n",
              "      border-right-color: var(--fill-color);\n",
              "    }\n",
              "    80% {\n",
              "      border-color: transparent;\n",
              "      border-right-color: var(--fill-color);\n",
              "      border-bottom-color: var(--fill-color);\n",
              "    }\n",
              "    90% {\n",
              "      border-color: transparent;\n",
              "      border-bottom-color: var(--fill-color);\n",
              "    }\n",
              "  }\n",
              "</style>\n",
              "\n",
              "  <script>\n",
              "    async function quickchart(key) {\n",
              "      const quickchartButtonEl =\n",
              "        document.querySelector('#' + key + ' button');\n",
              "      quickchartButtonEl.disabled = true;  // To prevent multiple clicks.\n",
              "      quickchartButtonEl.classList.add('colab-df-spinner');\n",
              "      try {\n",
              "        const charts = await google.colab.kernel.invokeFunction(\n",
              "            'suggestCharts', [key], {});\n",
              "      } catch (error) {\n",
              "        console.error('Error during call to suggestCharts:', error);\n",
              "      }\n",
              "      quickchartButtonEl.classList.remove('colab-df-spinner');\n",
              "      quickchartButtonEl.classList.add('colab-df-quickchart-complete');\n",
              "    }\n",
              "    (() => {\n",
              "      let quickchartButtonEl =\n",
              "        document.querySelector('#df-de09db2a-e997-4a78-a4a2-f3f7b20c9738 button');\n",
              "      quickchartButtonEl.style.display =\n",
              "        google.colab.kernel.accessAllowed ? 'block' : 'none';\n",
              "    })();\n",
              "  </script>\n",
              "</div>\n",
              "    </div>\n",
              "  </div>\n"
            ],
            "application/vnd.google.colaboratory.intrinsic+json": {
              "type": "dataframe",
              "variable_name": "my_df",
              "summary": "{\n  \"name\": \"my_df\",\n  \"rows\": 150,\n  \"fields\": [\n    {\n      \"column\": \"sepal.length\",\n      \"properties\": {\n        \"dtype\": \"number\",\n        \"std\": 0.828066127977863,\n        \"min\": 4.3,\n        \"max\": 7.9,\n        \"num_unique_values\": 35,\n        \"samples\": [\n          6.2,\n          4.5,\n          5.6\n        ],\n        \"semantic_type\": \"\",\n        \"description\": \"\"\n      }\n    },\n    {\n      \"column\": \"sepal.width\",\n      \"properties\": {\n        \"dtype\": \"number\",\n        \"std\": 0.4358662849366982,\n        \"min\": 2.0,\n        \"max\": 4.4,\n        \"num_unique_values\": 23,\n        \"samples\": [\n          2.3,\n          4.0,\n          3.5\n        ],\n        \"semantic_type\": \"\",\n        \"description\": \"\"\n      }\n    },\n    {\n      \"column\": \"petal.length\",\n      \"properties\": {\n        \"dtype\": \"number\",\n        \"std\": 1.7652982332594662,\n        \"min\": 1.0,\n        \"max\": 6.9,\n        \"num_unique_values\": 43,\n        \"samples\": [\n          6.7,\n          3.8,\n          3.7\n        ],\n        \"semantic_type\": \"\",\n        \"description\": \"\"\n      }\n    },\n    {\n      \"column\": \"petal.width\",\n      \"properties\": {\n        \"dtype\": \"number\",\n        \"std\": 0.7622376689603465,\n        \"min\": 0.1,\n        \"max\": 2.5,\n        \"num_unique_values\": 22,\n        \"samples\": [\n          0.2,\n          1.2,\n          1.3\n        ],\n        \"semantic_type\": \"\",\n        \"description\": \"\"\n      }\n    },\n    {\n      \"column\": \"variety\",\n      \"properties\": {\n        \"dtype\": \"number\",\n        \"std\": 0.8192319205190405,\n        \"min\": 0.0,\n        \"max\": 2.0,\n        \"num_unique_values\": 3,\n        \"samples\": [\n          0.0,\n          1.0,\n          2.0\n        ],\n        \"semantic_type\": \"\",\n        \"description\": \"\"\n      }\n    }\n  ]\n}"
            }
          },
          "metadata": {},
          "execution_count": 6
        }
      ]
    },
    {
      "cell_type": "code",
      "source": [
        "# To define 'X' we need to drop the last column because it is not features (it's our label)\n",
        "X = my_df.drop('variety', axis=1)\n",
        "# Define 'y'\n",
        "y = my_df['variety']"
      ],
      "metadata": {
        "id": "OiBGRI0E2onq"
      },
      "execution_count": 7,
      "outputs": []
    },
    {
      "cell_type": "code",
      "source": [
        "# Convert X and y to NumPy array\n",
        "X = X.values\n",
        "y = y.values"
      ],
      "metadata": {
        "id": "cEjsViCF4loq"
      },
      "execution_count": 8,
      "outputs": []
    },
    {
      "cell_type": "code",
      "source": [
        "X[:10], y[:10]"
      ],
      "metadata": {
        "colab": {
          "base_uri": "https://localhost:8080/"
        },
        "id": "4ZL6Vp3S4zlK",
        "outputId": "d45487c5-33be-458c-cf50-e666f9a01a61"
      },
      "execution_count": 9,
      "outputs": [
        {
          "output_type": "execute_result",
          "data": {
            "text/plain": [
              "(array([[5.1, 3.5, 1.4, 0.2],\n",
              "        [4.9, 3. , 1.4, 0.2],\n",
              "        [4.7, 3.2, 1.3, 0.2],\n",
              "        [4.6, 3.1, 1.5, 0.2],\n",
              "        [5. , 3.6, 1.4, 0.2],\n",
              "        [5.4, 3.9, 1.7, 0.4],\n",
              "        [4.6, 3.4, 1.4, 0.3],\n",
              "        [5. , 3.4, 1.5, 0.2],\n",
              "        [4.4, 2.9, 1.4, 0.2],\n",
              "        [4.9, 3.1, 1.5, 0.1]]),\n",
              " array([0., 0., 0., 0., 0., 0., 0., 0., 0., 0.]))"
            ]
          },
          "metadata": {},
          "execution_count": 9
        }
      ]
    },
    {
      "cell_type": "markdown",
      "source": [
        "### Split the Data"
      ],
      "metadata": {
        "id": "gAl96ofi5Rz6"
      }
    },
    {
      "cell_type": "code",
      "source": [
        "# Split the data\n",
        "X_train, X_test, y_train, y_test = train_test_split(X,\n",
        "                                                    y,\n",
        "                                                    test_size=0.2,\n",
        "                                                    random_state=41)"
      ],
      "metadata": {
        "id": "qKiWDqUc5U0T"
      },
      "execution_count": 10,
      "outputs": []
    },
    {
      "cell_type": "code",
      "source": [
        "len(X_train), len(y_train), len(X_test), len(y_test)"
      ],
      "metadata": {
        "colab": {
          "base_uri": "https://localhost:8080/"
        },
        "id": "ECjK9Ei56AdS",
        "outputId": "51c1b9e9-5544-4b83-c39c-5bc34ff4eb18"
      },
      "execution_count": 11,
      "outputs": [
        {
          "output_type": "execute_result",
          "data": {
            "text/plain": [
              "(120, 120, 30, 30)"
            ]
          },
          "metadata": {},
          "execution_count": 11
        }
      ]
    },
    {
      "cell_type": "code",
      "source": [
        "# Convert from NumPy array to PyTorch tensor\n",
        "X_train = torch.from_numpy(X_train).type(torch.float)\n",
        "X_test = torch.FloatTensor(X_test)\n",
        "\n",
        "y_train = torch.from_numpy(y_train).type(torch.LongTensor) # 64 bit integers\n",
        "y_test = torch.LongTensor(y_test)"
      ],
      "metadata": {
        "id": "0m0IK0NV6K-q"
      },
      "execution_count": 12,
      "outputs": []
    },
    {
      "cell_type": "code",
      "source": [
        "y_train"
      ],
      "metadata": {
        "colab": {
          "base_uri": "https://localhost:8080/"
        },
        "id": "mwP_PZVG8P2b",
        "outputId": "29ebd2e5-4e82-4dfe-be94-613817944191"
      },
      "execution_count": 13,
      "outputs": [
        {
          "output_type": "execute_result",
          "data": {
            "text/plain": [
              "tensor([1, 1, 2, 1, 2, 0, 2, 1, 2, 1, 1, 1, 0, 2, 2, 0, 2, 1, 0, 1, 2, 1, 2, 0,\n",
              "        0, 2, 2, 0, 1, 0, 0, 1, 0, 1, 2, 0, 1, 1, 2, 0, 1, 1, 0, 2, 1, 0, 2, 2,\n",
              "        0, 1, 0, 0, 2, 2, 2, 0, 0, 0, 0, 0, 2, 2, 0, 2, 1, 0, 0, 2, 2, 2, 1, 1,\n",
              "        2, 0, 1, 2, 1, 1, 0, 1, 0, 1, 0, 1, 2, 2, 2, 0, 0, 0, 0, 2, 0, 0, 1, 2,\n",
              "        0, 2, 0, 1, 2, 1, 0, 2, 0, 1, 0, 2, 1, 1, 2, 1, 1, 2, 2, 0, 1, 1, 1, 2])"
            ]
          },
          "metadata": {},
          "execution_count": 13
        }
      ]
    },
    {
      "cell_type": "markdown",
      "source": [
        "### Build a Model"
      ],
      "metadata": {
        "id": "REZLOxuY-TK1"
      }
    },
    {
      "cell_type": "code",
      "source": [
        "class Model(nn.Module):\n",
        "  def __init__(self):\n",
        "    super().__init__()\n",
        "\n",
        "    self.layer_1 = nn.Linear(in_features=4, out_features=8)\n",
        "    self.layer_2 = nn.Linear(in_features=8, out_features=9)\n",
        "    self.layer_3 = nn.Linear(in_features=9, out_features=3)\n",
        "\n",
        "    self.relu = nn.ReLU()\n",
        "\n",
        "  def forward(self, x: torch.Tensor):\n",
        "    return self.layer_3(self.relu(self.layer_2(self.relu(self.layer_1(x)))))"
      ],
      "metadata": {
        "id": "wzM-s3ki-Vkz"
      },
      "execution_count": 14,
      "outputs": []
    },
    {
      "cell_type": "code",
      "source": [
        "# Send the model to GPU device\n",
        "device = \"cuda\" if torch.cuda.is_available() else \"cpu\"\n",
        "print(device)\n",
        "\n",
        "model = Model()\n",
        "model.to(device)\n",
        "print(model.state_dict())"
      ],
      "metadata": {
        "colab": {
          "base_uri": "https://localhost:8080/"
        },
        "id": "uxoNXPaU_TSx",
        "outputId": "2956b07f-c7a7-4165-c471-00a8cd357f2c"
      },
      "execution_count": 15,
      "outputs": [
        {
          "output_type": "stream",
          "name": "stdout",
          "text": [
            "cpu\n",
            "OrderedDict([('layer_1.weight', tensor([[-0.2636, -0.2734,  0.3005, -0.3308],\n",
            "        [-0.2350,  0.2720, -0.3718,  0.2452],\n",
            "        [ 0.3045,  0.1357,  0.0896,  0.1933],\n",
            "        [ 0.3782,  0.0407, -0.3600,  0.4613],\n",
            "        [ 0.3666, -0.0116, -0.2923, -0.1937],\n",
            "        [-0.4415,  0.3314, -0.0434,  0.3445],\n",
            "        [ 0.1883, -0.0992, -0.3197,  0.1740],\n",
            "        [-0.3208, -0.1111,  0.2972, -0.2723]])), ('layer_1.bias', tensor([-0.0245, -0.0679,  0.0573,  0.4814,  0.2923, -0.1877,  0.4425, -0.1626])), ('layer_2.weight', tensor([[ 0.1456,  0.1463, -0.0107, -0.3290,  0.3324, -0.0817,  0.2408, -0.2121],\n",
            "        [-0.0361,  0.3031, -0.3068,  0.0136, -0.0046, -0.3022, -0.0685, -0.3241],\n",
            "        [ 0.0764,  0.0595,  0.2023,  0.0088, -0.1424, -0.1275, -0.1320,  0.2750],\n",
            "        [ 0.1133, -0.3520,  0.0632, -0.0472,  0.2579, -0.1034,  0.3086,  0.1093],\n",
            "        [-0.3185,  0.0744, -0.0807,  0.1770, -0.3035, -0.0259,  0.2337,  0.1253],\n",
            "        [ 0.1664,  0.2993,  0.1444,  0.1149,  0.0729,  0.0233,  0.3077, -0.0815],\n",
            "        [ 0.0465,  0.0049, -0.0977,  0.2585,  0.0198, -0.3007,  0.2398, -0.1170],\n",
            "        [ 0.0346, -0.3206,  0.1403, -0.2425, -0.0401,  0.3035,  0.0846,  0.2948],\n",
            "        [-0.1916, -0.3289, -0.2831, -0.1211, -0.1101, -0.0240,  0.2022,  0.3083]])), ('layer_2.bias', tensor([-0.3468, -0.2051,  0.3039, -0.0589, -0.0997, -0.3476, -0.0578, -0.3142,\n",
            "         0.2995])), ('layer_3.weight', tensor([[-0.1529, -0.1029,  0.0621,  0.1514,  0.2912, -0.0564, -0.2488,  0.2912,\n",
            "         -0.0707],\n",
            "        [ 0.1217, -0.2522, -0.2136, -0.0250, -0.1106,  0.0118,  0.1256,  0.0327,\n",
            "         -0.1445],\n",
            "        [-0.0078,  0.2576,  0.2920,  0.2779,  0.2205,  0.1830,  0.3304, -0.3098,\n",
            "         -0.2921]])), ('layer_3.bias', tensor([ 0.1991,  0.3204, -0.2358]))])\n"
          ]
        }
      ]
    },
    {
      "cell_type": "markdown",
      "source": [
        "### Loss Function and Optimizer"
      ],
      "metadata": {
        "id": "FEppbA_A9Sh2"
      }
    },
    {
      "cell_type": "code",
      "source": [
        "# Loss function to measure how far off the predictions are from the data\n",
        "loss_fn = nn.CrossEntropyLoss() # since we do a multiclass classification\n",
        "loss_fn"
      ],
      "metadata": {
        "colab": {
          "base_uri": "https://localhost:8080/"
        },
        "id": "MOid_xCu9W5e",
        "outputId": "f280d396-7348-42d3-a58d-b1cb6445f91d"
      },
      "execution_count": 16,
      "outputs": [
        {
          "output_type": "execute_result",
          "data": {
            "text/plain": [
              "CrossEntropyLoss()"
            ]
          },
          "metadata": {},
          "execution_count": 16
        }
      ]
    },
    {
      "cell_type": "code",
      "source": [
        "# Optimizer (Adam, lr=0.01)\n",
        "optimizer = torch.optim.Adam(model.parameters(), lr = 0.01)"
      ],
      "metadata": {
        "id": "iw-VdRzp9zI4"
      },
      "execution_count": 17,
      "outputs": []
    },
    {
      "cell_type": "code",
      "source": [
        "# Check model's parameters\n",
        "next(model.parameters()) # -> returns eight weights from the first layer"
      ],
      "metadata": {
        "colab": {
          "base_uri": "https://localhost:8080/"
        },
        "id": "lFv8ruUnAh-G",
        "outputId": "d09322fc-2511-4bc0-ad78-804c04790d72"
      },
      "execution_count": 18,
      "outputs": [
        {
          "output_type": "execute_result",
          "data": {
            "text/plain": [
              "Parameter containing:\n",
              "tensor([[-0.2636, -0.2734,  0.3005, -0.3308],\n",
              "        [-0.2350,  0.2720, -0.3718,  0.2452],\n",
              "        [ 0.3045,  0.1357,  0.0896,  0.1933],\n",
              "        [ 0.3782,  0.0407, -0.3600,  0.4613],\n",
              "        [ 0.3666, -0.0116, -0.2923, -0.1937],\n",
              "        [-0.4415,  0.3314, -0.0434,  0.3445],\n",
              "        [ 0.1883, -0.0992, -0.3197,  0.1740],\n",
              "        [-0.3208, -0.1111,  0.2972, -0.2723]], requires_grad=True)"
            ]
          },
          "metadata": {},
          "execution_count": 18
        }
      ]
    },
    {
      "cell_type": "code",
      "source": [
        "model"
      ],
      "metadata": {
        "colab": {
          "base_uri": "https://localhost:8080/"
        },
        "id": "wrYulH8iX6ka",
        "outputId": "1b9f5f1c-448e-4c25-b110-45d45b24c3a6"
      },
      "execution_count": 19,
      "outputs": [
        {
          "output_type": "execute_result",
          "data": {
            "text/plain": [
              "Model(\n",
              "  (layer_1): Linear(in_features=4, out_features=8, bias=True)\n",
              "  (layer_2): Linear(in_features=8, out_features=9, bias=True)\n",
              "  (layer_3): Linear(in_features=9, out_features=3, bias=True)\n",
              "  (relu): ReLU()\n",
              ")"
            ]
          },
          "metadata": {},
          "execution_count": 19
        }
      ]
    },
    {
      "cell_type": "markdown",
      "source": [
        "### Train a Model"
      ],
      "metadata": {
        "id": "cfRNR5kPYCT8"
      }
    },
    {
      "cell_type": "code",
      "source": [
        "# What's the raw output of the untrained model\n",
        "model.eval()\n",
        "\n",
        "with torch.inference_mode():\n",
        "  logits = model(X_train.to(device))\n",
        "\n",
        "logits[:10], y_train[:10] # Check for their format!!!"
      ],
      "metadata": {
        "colab": {
          "base_uri": "https://localhost:8080/"
        },
        "id": "kdo1JPUGn18m",
        "outputId": "59b7a9e2-e307-4248-b9fd-6e21ebc65754"
      },
      "execution_count": 20,
      "outputs": [
        {
          "output_type": "execute_result",
          "data": {
            "text/plain": [
              "(tensor([[0.2061, 0.2112, 0.2420],\n",
              "         [0.2152, 0.1794, 0.2581],\n",
              "         [0.2283, 0.1649, 0.1136],\n",
              "         [0.2354, 0.1717, 0.1448],\n",
              "         [0.2041, 0.1619, 0.2825],\n",
              "         [0.1575, 0.2862, 0.4146],\n",
              "         [0.1975, 0.1681, 0.3142],\n",
              "         [0.2154, 0.1773, 0.2551],\n",
              "         [0.2165, 0.1537, 0.2678],\n",
              "         [0.2234, 0.1593, 0.1934]]),\n",
              " tensor([1, 1, 2, 1, 2, 0, 2, 1, 2, 1]))"
            ]
          },
          "metadata": {},
          "execution_count": 20
        }
      ]
    },
    {
      "cell_type": "code",
      "source": [
        "# From logits to probabilities\n",
        "y_probs = torch.softmax(logits, dim=1) # a dimension along wich softmax() will be computed\n",
        "y_probs[:10]"
      ],
      "metadata": {
        "colab": {
          "base_uri": "https://localhost:8080/"
        },
        "id": "Qy7ACuQ3phsG",
        "outputId": "31b0e8eb-e686-48ae-8df8-1638db21de84"
      },
      "execution_count": 21,
      "outputs": [
        {
          "output_type": "execute_result",
          "data": {
            "text/plain": [
              "tensor([[0.3288, 0.3304, 0.3408],\n",
              "        [0.3324, 0.3207, 0.3469],\n",
              "        [0.3533, 0.3316, 0.3150],\n",
              "        [0.3507, 0.3290, 0.3203],\n",
              "        [0.3289, 0.3153, 0.3557],\n",
              "        [0.2915, 0.3315, 0.3770],\n",
              "        [0.3231, 0.3138, 0.3631],\n",
              "        [0.3330, 0.3205, 0.3465],\n",
              "        [0.3343, 0.3139, 0.3518],\n",
              "        [0.3438, 0.3225, 0.3337]])"
            ]
          },
          "metadata": {},
          "execution_count": 21
        }
      ]
    },
    {
      "cell_type": "code",
      "source": [
        "# From probabilities to predictions\n",
        "y_preds = torch.argmax(y_probs, dim=1)\n",
        "y_preds[:10]"
      ],
      "metadata": {
        "colab": {
          "base_uri": "https://localhost:8080/"
        },
        "id": "Tjh91ebRrptr",
        "outputId": "b2f6778c-fda1-4369-b73d-022ecc6e0011"
      },
      "execution_count": 22,
      "outputs": [
        {
          "output_type": "execute_result",
          "data": {
            "text/plain": [
              "tensor([2, 2, 0, 0, 2, 2, 2, 2, 2, 0])"
            ]
          },
          "metadata": {},
          "execution_count": 22
        }
      ]
    },
    {
      "cell_type": "code",
      "source": [
        "# Random seed\n",
        "torch.manual_seed(41)\n",
        "torch.cuda.manual_seed(41)\n",
        "\n",
        "# Number of epochs\n",
        "epochs = 100\n",
        "\n",
        "# Tracking experiments\n",
        "epoch_counts = []\n",
        "train_losses = []\n",
        "test_losses = []\n",
        "\n",
        "# CPU -> GPU\n",
        "X_train, y_train = X_train.to(device), y_train.to(device)\n",
        "X_test, y_test = X_test.to(device), y_test.to(device)\n",
        "\n",
        "# Train\n",
        "for epoch in range(epochs):\n",
        "\n",
        "  # Train loop\n",
        "  model.train()\n",
        "\n",
        "  # Forward pass\n",
        "  logits = model(X_train)\n",
        "\n",
        "  # Calculate the loss\n",
        "  loss = loss_fn(logits, y_train)\n",
        "\n",
        "  # Zero gradients\n",
        "  optimizer.zero_grad()\n",
        "\n",
        "  # Back propagation (takes the error rate of the forward propagation and feed it back through the network to find the optimal weigths)\n",
        "  loss.backward()\n",
        "\n",
        "  # Upgrade the parameters\n",
        "  optimizer.step()\n",
        "\n",
        "  # Testing loop\n",
        "  model.eval()\n",
        "\n",
        "  with torch.inference_mode(): # turn off back propagation\n",
        "\n",
        "    # Forward pass\n",
        "    test_logits = model(X_test)\n",
        "\n",
        "    # Calculate the loss\n",
        "    test_loss = loss_fn(test_logits, y_test)\n",
        "\n",
        "\n",
        "# Print out what's happening\n",
        "  if epoch % 10 == 0:\n",
        "    epoch_counts.append(epoch)\n",
        "    train_losses.append(loss)\n",
        "    test_losses.append(test_loss)\n",
        "    print(f\"Epoch: {epoch} | Train loss: {loss:.4f} | Test loss: {test_loss:.4f}\")\n"
      ],
      "metadata": {
        "colab": {
          "base_uri": "https://localhost:8080/"
        },
        "id": "Ze94HvAPYOYE",
        "outputId": "acb7828e-4cba-4e66-aede-52d4cb6b014a"
      },
      "execution_count": 23,
      "outputs": [
        {
          "output_type": "stream",
          "name": "stdout",
          "text": [
            "Epoch: 0 | Train loss: 1.1252 | Test loss: 1.1084\n",
            "Epoch: 10 | Train loss: 1.0097 | Test loss: 0.9975\n",
            "Epoch: 20 | Train loss: 0.8162 | Test loss: 0.8144\n",
            "Epoch: 30 | Train loss: 0.5860 | Test loss: 0.6044\n",
            "Epoch: 40 | Train loss: 0.4003 | Test loss: 0.4304\n",
            "Epoch: 50 | Train loss: 0.2679 | Test loss: 0.3058\n",
            "Epoch: 60 | Train loss: 0.1796 | Test loss: 0.2273\n",
            "Epoch: 70 | Train loss: 0.1217 | Test loss: 0.1766\n",
            "Epoch: 80 | Train loss: 0.0861 | Test loss: 0.1491\n",
            "Epoch: 90 | Train loss: 0.0652 | Test loss: 0.1363\n"
          ]
        }
      ]
    },
    {
      "cell_type": "code",
      "source": [
        "# Plot the loss function\n",
        "plt.plot(epoch_counts, np.array(torch.tensor(train_losses).numpy()), label=\"Train loss\")\n",
        "plt.plot(epoch_counts, np.array(torch.tensor(test_losses).numpy()), label=\"Test loss\")\n",
        "plt.title(\"Training and Testing loss curves\")\n",
        "plt.xlabel(\"Epoch\")\n",
        "plt.ylabel(\"Loss\")\n",
        "plt.legend()"
      ],
      "metadata": {
        "colab": {
          "base_uri": "https://localhost:8080/",
          "height": 489
        },
        "id": "K-E99crIYnK8",
        "outputId": "22efe515-205b-4ab6-e016-15c21d0b5ed4"
      },
      "execution_count": 24,
      "outputs": [
        {
          "output_type": "execute_result",
          "data": {
            "text/plain": [
              "<matplotlib.legend.Legend at 0x7e69411d2cb0>"
            ]
          },
          "metadata": {},
          "execution_count": 24
        },
        {
          "output_type": "display_data",
          "data": {
            "text/plain": [
              "<Figure size 640x480 with 1 Axes>"
            ],
            "image/png": "[encoded data removed]"
          },
          "metadata": {}
        }
      ]
    },
    {
      "cell_type": "markdown",
      "source": [
        "### Making predictions\n"
      ],
      "metadata": {
        "id": "0YYXOqR5s7Lb"
      }
    },
    {
      "cell_type": "code",
      "source": [
        "# What's the raw output of the untrained model\n",
        "model.eval()\n",
        "\n",
        "with torch.inference_mode():\n",
        "  test_logits = model(X_test)\n",
        "\n",
        "test_logits[:10]"
      ],
      "metadata": {
        "colab": {
          "base_uri": "https://localhost:8080/"
        },
        "id": "st02eFE5s94i",
        "outputId": "721765a8-d370-4941-c356-ea14582429d0"
      },
      "execution_count": 25,
      "outputs": [
        {
          "output_type": "execute_result",
          "data": {
            "text/plain": [
              "tensor([[-5.8771,  4.4629,  6.5155],\n",
              "        [-7.5451,  4.1668,  9.7293],\n",
              "        [-8.4517,  5.1275, 10.2015],\n",
              "        [-4.3411,  5.6280,  2.5636],\n",
              "        [-7.1838,  4.8757,  8.3024],\n",
              "        [-3.3940,  5.3421,  1.2802],\n",
              "        [-5.9240,  4.9826,  6.0025],\n",
              "        [-4.2895,  5.7016,  2.3920],\n",
              "        [-6.5369,  4.9261,  7.1291],\n",
              "        [-8.0526,  4.4129, 10.3325]])"
            ]
          },
          "metadata": {},
          "execution_count": 25
        }
      ]
    },
    {
      "cell_type": "code",
      "source": [
        "# From logits to probabilities\n",
        "y_test_probs = torch.softmax(test_logits, dim=1)\n",
        "y_test_probs[:10]"
      ],
      "metadata": {
        "colab": {
          "base_uri": "https://localhost:8080/"
        },
        "id": "cL6V2tOYtUDy",
        "outputId": "06910698-b0f5-4b0e-b0f9-844fd75128d3"
      },
      "execution_count": 26,
      "outputs": [
        {
          "output_type": "execute_result",
          "data": {
            "text/plain": [
              "tensor([[3.6770e-06, 1.1378e-01, 8.8621e-01],\n",
              "        [3.1344e-08, 3.8244e-03, 9.9618e-01],\n",
              "        [7.8757e-09, 6.2185e-03, 9.9378e-01],\n",
              "        [4.4737e-05, 9.5535e-01, 4.4601e-02],\n",
              "        [1.8220e-07, 3.1474e-02, 9.6853e-01],\n",
              "        [1.5794e-04, 9.8292e-01, 1.6921e-02],\n",
              "        [4.8601e-06, 2.6504e-01, 7.3495e-01],\n",
              "        [4.4187e-05, 9.6472e-01, 3.5240e-02],\n",
              "        [1.0457e-06, 9.9476e-02, 9.0052e-01],\n",
              "        [1.0334e-08, 2.6790e-03, 9.9732e-01]])"
            ]
          },
          "metadata": {},
          "execution_count": 26
        }
      ]
    },
    {
      "cell_type": "code",
      "source": [
        "# From probabilities to predictions\n",
        "y_predictions = torch.argmax(y_test_probs, dim=1)\n",
        "y_predictions[:10]"
      ],
      "metadata": {
        "colab": {
          "base_uri": "https://localhost:8080/"
        },
        "id": "47jE6demtkso",
        "outputId": "ccc344bc-b92f-46c7-f1f5-02ea1632a707"
      },
      "execution_count": 27,
      "outputs": [
        {
          "output_type": "execute_result",
          "data": {
            "text/plain": [
              "tensor([2, 2, 2, 1, 2, 1, 2, 1, 2, 2])"
            ]
          },
          "metadata": {},
          "execution_count": 27
        }
      ]
    },
    {
      "cell_type": "code",
      "source": [
        "# Compare with y_test label\n",
        "print(y_predictions == y_test)"
      ],
      "metadata": {
        "colab": {
          "base_uri": "https://localhost:8080/"
        },
        "id": "gkje2Z_Gt4rX",
        "outputId": "77733f6a-a684-4d85-c39c-7dde2b75ea32"
      },
      "execution_count": 28,
      "outputs": [
        {
          "output_type": "stream",
          "name": "stdout",
          "text": [
            "tensor([ True,  True,  True,  True,  True,  True,  True,  True,  True,  True,\n",
            "         True,  True,  True,  True,  True, False,  True, False,  True,  True,\n",
            "         True,  True,  True,  True,  True,  True,  True,  True,  True,  True])\n"
          ]
        }
      ]
    },
    {
      "cell_type": "code",
      "source": [
        "# Count how many correct outputs\n",
        "correct = 0 # (We have y_test=30 in total)\n",
        "\n",
        "model.eval()\n",
        "with torch.inference_mode():\n",
        "  for i, data in enumerate(y_predictions):\n",
        "    if data == y_test[i]:\n",
        "      correct += 1\n",
        "\n",
        "print()\n",
        "print(f'We got {correct} out of {len(y_test)} correct predictions!')"
      ],
      "metadata": {
        "colab": {
          "base_uri": "https://localhost:8080/"
        },
        "id": "GzOSuKLD3X4J",
        "outputId": "ac40cdcf-b2a6-449b-d43d-1c64508fcd9f"
      },
      "execution_count": 29,
      "outputs": [
        {
          "output_type": "stream",
          "name": "stdout",
          "text": [
            "\n",
            "We got 28 out of 30 correct predictions!\n"
          ]
        }
      ]
    },
    {
      "cell_type": "code",
      "source": [
        "# Count how many correct predictions\n",
        "correct = 0 # (We have y_test=30 in total)\n",
        "\n",
        "model.eval()\n",
        "with torch.inference_mode():\n",
        "  for i, data in enumerate(X_test):\n",
        "    logits = model(data)\n",
        "\n",
        "    if y_test[i] == 0:\n",
        "      x = 'Setosa'\n",
        "    elif y_test[i] == 1:\n",
        "      x = 'Versicolor'\n",
        "    elif y_test[i] == 2:\n",
        "      x = 'Virginica'\n",
        "\n",
        "    print(f'{i+1}: {logits}\\t {y_test[i]} \\t {logits.argmax().item()}')\n",
        "    # print(f'{i+1}: {logits}\\t {x} \\t {logits.argmax().item()}')\n",
        "\n",
        "  # Correct or not the model's predictions\n",
        "    if logits.argmax().item() == y_test[i]:\n",
        "      correct += 1\n",
        "print()\n",
        "print(f'We got {correct} correct predictions!')"
      ],
      "metadata": {
        "colab": {
          "base_uri": "https://localhost:8080/"
        },
        "id": "Hjl6iViLuQOV",
        "outputId": "3dc37b4d-539e-4667-e839-488a5df8be7d"
      },
      "execution_count": 30,
      "outputs": [
        {
          "output_type": "stream",
          "name": "stdout",
          "text": [
            "1: tensor([-5.8771,  4.4629,  6.5155])\t 2 \t 2\n",
            "2: tensor([-7.5451,  4.1668,  9.7293])\t 2 \t 2\n",
            "3: tensor([-8.4517,  5.1275, 10.2015])\t 2 \t 2\n",
            "4: tensor([-4.3411,  5.6280,  2.5636])\t 1 \t 1\n",
            "5: tensor([-7.1838,  4.8757,  8.3023])\t 2 \t 2\n",
            "6: tensor([-3.3940,  5.3421,  1.2802])\t 1 \t 1\n",
            "7: tensor([-5.9240,  4.9826,  6.0025])\t 2 \t 2\n",
            "8: tensor([-4.2895,  5.7016,  2.3920])\t 1 \t 1\n",
            "9: tensor([-6.5369,  4.9261,  7.1291])\t 2 \t 2\n",
            "10: tensor([-8.0526,  4.4129, 10.3325])\t 2 \t 2\n",
            "11: tensor([-5.6775,  4.9505,  5.6248])\t 2 \t 2\n",
            "12: tensor([ 4.5748, -2.2579, -2.8925])\t 0 \t 0\n",
            "13: tensor([ 4.2646, -2.0055, -2.7342])\t 0 \t 0\n",
            "14: tensor([-2.1081,  4.0482,  0.5803])\t 1 \t 1\n",
            "15: tensor([ 3.4608, -1.2147, -2.3488])\t 0 \t 0\n",
            "16: tensor([-5.4739,  5.1174,  5.0966])\t 2 \t 1\n",
            "17: tensor([ 4.0637, -1.8045, -2.6504])\t 0 \t 0\n",
            "18: tensor([-5.8090,  4.6057,  6.2494])\t 1 \t 2\n",
            "19: tensor([ 4.9250, -2.5763, -3.0545])\t 0 \t 0\n",
            "20: tensor([ 3.4559, -1.2559, -2.3637])\t 0 \t 0\n",
            "21: tensor([-2.6161,  4.5584,  0.8575])\t 1 \t 1\n",
            "22: tensor([-7.7427,  4.7379,  9.4233])\t 2 \t 2\n",
            "23: tensor([ 3.5776, -1.3269, -2.4109])\t 0 \t 0\n",
            "24: tensor([ 4.5445, -2.2478, -2.8698])\t 0 \t 0\n",
            "25: tensor([-2.6548,  4.6138,  0.8825])\t 1 \t 1\n",
            "26: tensor([-3.2832,  5.2189,  1.2163])\t 1 \t 1\n",
            "27: tensor([-4.6527,  5.7790,  2.9302])\t 1 \t 1\n",
            "28: tensor([-2.9436,  4.8858,  1.0381])\t 1 \t 1\n",
            "29: tensor([ 4.5932, -2.2788, -2.8989])\t 0 \t 0\n",
            "30: tensor([-4.5797,  5.4566,  3.1690])\t 1 \t 1\n",
            "\n",
            "We got 28 correct predictions!\n"
          ]
        }
      ]
    },
    {
      "cell_type": "markdown",
      "source": [
        "### Evaluate NEW Data on the Network"
      ],
      "metadata": {
        "id": "WfO_qbE97Uxr"
      }
    },
    {
      "cell_type": "code",
      "source": [
        "# Create a new flower (data)\n",
        "# new_iris = torch.tensor([4.7, 1.2, 1.3, 0.2])\n",
        "new_iris = torch.tensor([6.7, 3.0, 5.2, 2.3])"
      ],
      "metadata": {
        "id": "wn3BvQ5H7Zhe"
      },
      "execution_count": 31,
      "outputs": []
    },
    {
      "cell_type": "code",
      "source": [
        "# The process is similar to a testing process\n",
        "model.eval()\n",
        "\n",
        "with torch.inference_mode():\n",
        "  logits = model(new_iris)\n",
        "\n",
        "  new_preds = torch.softmax(logits, dim=0).argmax(dim=0)\n",
        "\n",
        "  if new_preds == 0:\n",
        "    x = 'Setosa'\n",
        "  elif new_preds == 1:\n",
        "    x = 'Versicolor'\n",
        "  else:\n",
        "    x = 'Virginica'\n",
        "\n",
        "print(f\"This is class {new_preds.item()} -> {x}\")"
      ],
      "metadata": {
        "colab": {
          "base_uri": "https://localhost:8080/"
        },
        "id": "cG33sVT_9m88",
        "outputId": "52239b49-a4b7-417a-8cf9-122319e03ec3"
      },
      "execution_count": 32,
      "outputs": [
        {
          "output_type": "stream",
          "name": "stdout",
          "text": [
            "This is class 2 -> Virginica\n"
          ]
        }
      ]
    },
    {
      "cell_type": "markdown",
      "source": [
        "### Save and Load our Model"
      ],
      "metadata": {
        "id": "ewNpqvwFjrkR"
      }
    },
    {
      "cell_type": "code",
      "source": [
        "# Save the model\n",
        "torch.save(model.state_dict(), 'iris_model.pt')"
      ],
      "metadata": {
        "id": "7k5qUOTMju_x"
      },
      "execution_count": 33,
      "outputs": []
    },
    {
      "cell_type": "code",
      "source": [
        "# Load the Saved model\n",
        "new_model = Model()\n",
        "new_model.state_dict(torch.load('iris_model.pt'))"
      ],
      "metadata": {
        "colab": {
          "base_uri": "https://localhost:8080/"
        },
        "id": "-Sqaxfk9kYN6",
        "outputId": "440eb301-9444-44d4-d67e-0461510acf3c"
      },
      "execution_count": 34,
      "outputs": [
        {
          "output_type": "stream",
          "name": "stderr",
          "text": [
            "/usr/local/lib/python3.10/dist-packages/torch/nn/modules/module.py:1898: UserWarning: Positional args are being deprecated, use kwargs instead. Refer to https://pytorch.org/docs/master/generated/torch.nn.Module.html#torch.nn.Module.state_dict for details.\n",
            "  warnings.warn(\n"
          ]
        },
        {
          "output_type": "execute_result",
          "data": {
            "text/plain": [
              "OrderedDict([('layer_1.weight',\n",
              "              tensor([[-0.2636, -0.2734,  0.3005, -0.3308],\n",
              "                      [-0.2350,  0.2720, -0.3718,  0.2452],\n",
              "                      [ 0.3045,  0.1357,  0.0896,  0.1933],\n",
              "                      [ 0.3782,  0.0407, -0.3600,  0.4613],\n",
              "                      [ 0.3666, -0.0116, -0.2923, -0.1937],\n",
              "                      [-0.4415,  0.3314, -0.0434,  0.3445],\n",
              "                      [ 0.1883, -0.0992, -0.3197,  0.1740],\n",
              "                      [-0.3208, -0.1111,  0.2972, -0.2723]])),\n",
              "             ('layer_1.bias',\n",
              "              tensor([-0.0245, -0.0679,  0.0573,  0.4814,  0.2923, -0.1877,  0.4425, -0.1626])),\n",
              "             ('layer_2.weight',\n",
              "              tensor([[ 0.1456,  0.1463, -0.0107, -0.3290,  0.3324, -0.0817,  0.2408, -0.2121],\n",
              "                      [-0.0361,  0.3031, -0.3068,  0.0136, -0.0046, -0.3022, -0.0685, -0.3241],\n",
              "                      [ 0.0764,  0.0595,  0.2023,  0.0088, -0.1424, -0.1275, -0.1320,  0.2750],\n",
              "                      [ 0.1133, -0.3520,  0.0632, -0.0472,  0.2579, -0.1034,  0.3086,  0.1093],\n",
              "                      [-0.3185,  0.0744, -0.0807,  0.1770, -0.3035, -0.0259,  0.2337,  0.1253],\n",
              "                      [ 0.1664,  0.2993,  0.1444,  0.1149,  0.0729,  0.0233,  0.3077, -0.0815],\n",
              "                      [ 0.0465,  0.0049, -0.0977,  0.2585,  0.0198, -0.3007,  0.2398, -0.1170],\n",
              "                      [ 0.0346, -0.3206,  0.1403, -0.2425, -0.0401,  0.3035,  0.0846,  0.2948],\n",
              "                      [-0.1916, -0.3289, -0.2831, -0.1211, -0.1101, -0.0240,  0.2022,  0.3083]])),\n",
              "             ('layer_2.bias',\n",
              "              tensor([-0.3468, -0.2051,  0.3039, -0.0589, -0.0997, -0.3476, -0.0578, -0.3142,\n",
              "                       0.2995])),\n",
              "             ('layer_3.weight',\n",
              "              tensor([[-0.1529, -0.1029,  0.0621,  0.1514,  0.2912, -0.0564, -0.2488,  0.2912,\n",
              "                       -0.0707],\n",
              "                      [ 0.1217, -0.2522, -0.2136, -0.0250, -0.1106,  0.0118,  0.1256,  0.0327,\n",
              "                       -0.1445],\n",
              "                      [-0.0078,  0.2576,  0.2920,  0.2779,  0.2205,  0.1830,  0.3304, -0.3098,\n",
              "                       -0.2921]])),\n",
              "             ('layer_3.bias', tensor([ 0.1991,  0.3204, -0.2358]))])"
            ]
          },
          "metadata": {},
          "execution_count": 34
        }
      ]
    },
    {
      "cell_type": "code",
      "source": [
        "# Make sure it loaded correctly\n",
        "new_model.eval()"
      ],
      "metadata": {
        "colab": {
          "base_uri": "https://localhost:8080/"
        },
        "id": "axGeQEZ5lD4o",
        "outputId": "8da8d2ae-c322-42fc-eda1-63a647283def"
      },
      "execution_count": 35,
      "outputs": [
        {
          "output_type": "execute_result",
          "data": {
            "text/plain": [
              "Model(\n",
              "  (layer_1): Linear(in_features=4, out_features=8, bias=True)\n",
              "  (layer_2): Linear(in_features=8, out_features=9, bias=True)\n",
              "  (layer_3): Linear(in_features=9, out_features=3, bias=True)\n",
              "  (relu): ReLU()\n",
              ")"
            ]
          },
          "metadata": {},
          "execution_count": 35
        }
      ]
    }
  ]
}